{
  "cells": [
    {
      "cell_type": "code",
      "execution_count": 6,
      "metadata": {},
      "outputs": [],
      "source": [
        "import os\n",
        "import shutil\n",
        "import glob\n",
        "import time\n",
        "from contextlib import redirect_stdout\n",
        "import traceback\n",
        "\n",
        "from instancia import parse_instance_fully_correct\n",
        "from solucao import (\n",
        "    preparar_servicos,\n",
        "    construtivo_savings,\n",
        "    print_solucao_padroes,\n",
        ")\n",
        "from grafo import CustomGraphFinal\n",
        "from otimizacao import swap_entre_rotas"
      ]
    },
    {
      "cell_type": "code",
      "execution_count": null,
      "metadata": {},
      "outputs": [],
      "source": [
        "# Defina o caminho da instância que deseja analisar individualmente\n",
        "file_path = 'dados/BHW1.dat'\n",
        "\n",
        "# Leitura e parsing da instância\n",
        "parsed_data = parse_instance_fully_correct(file_path)\n",
        "\n",
        "# Criação do grafo\n",
        "g = CustomGraphFinal(parsed_data)"
      ]
    },
    {
      "cell_type": "code",
      "execution_count": null,
      "metadata": {},
      "outputs": [],
      "source": [
        "# Visualize o grafo\n",
        "desenhar_grafo(g)"
      ]
    },
    {
      "cell_type": "code",
      "execution_count": null,
      "metadata": {},
      "outputs": [],
      "source": [
        "# Calcule estatísticas e métricas\n",
        "dist, pred, node_to_index, index_to_node = g.floyd_warshall()\n",
        "avg_path, diameter = g.average_path_length_and_diameter(dist)\n",
        "df = pd.DataFrame([\n",
        "    (\"Quantidade de vértices\", g.num_vertices()),\n",
        "    (\"Quantidade de arestas\", g.num_edges()),\n",
        "    (\"Quantidade de arcos\", g.num_arcs()),\n",
        "    (\"Quantidade de vértices requeridos\", g.num_required_nodes()),\n",
        "    (\"Quantidade de arestas requeridas\", g.num_required_edges()),\n",
        "    (\"Quantidade de arcos requeridos\", g.num_required_arcs()),\n",
        "    (\"Densidade do grafo\", g.density()),\n",
        "    (\"Componentes conectados\", len(g.connected_components())),\n",
        "    (\"Grau mínimo\", g.degrees()[0]),\n",
        "    (\"Grau máximo\", g.degrees()[1]),\n",
        "    (\"Caminho médio\", avg_path),\n",
        "    (\"Diâmetro\", diameter)\n",
        "], columns=[\"Métrica\", \"Valor\"])\n",
        "print(df)\n",
        "\n",
        "# Betweenness centrality\n",
        "bt_raw = g.betweenness_centrality(dist, pred)\n",
        "bt = {index_to_node[i]: bt_raw[i] for i in bt_raw}\n",
        "print(\"Intermediação:\", bt)"
      ]
    },
    {
      "cell_type": "code",
      "execution_count": null,
      "metadata": {},
      "outputs": [],
      "source": [
        "# Preparação dos serviços e IDs\n",
        "servicos, servico_ids = preparar_servicos(parsed_data, g.depot)\n",
        "\n",
        "# Geração das soluções (algoritmo construtivo)\n",
        "solucoes = construtivo_savings(\n",
        "    g, servicos, servico_ids, g.depot, g.capacity, dist, node_to_index\n",
        ")\n",
        "\n",
        "# Impressão da solução no padrão solicitado\n",
        "print_solucao_padroes(\n",
        "    solucoes,\n",
        "    parsed_data[\"meta\"][\"name\"],\n",
        "    servico_ids,\n",
        "    clocks_ref=0,\n",
        "    clocks_sol=0\n",
        ")"
      ]
    },
    {
      "cell_type": "code",
      "execution_count": null,
      "metadata": {},
      "outputs": [],
      "source": [
        "from otimizacao import swap_entre_rotas\n",
        "\n",
        "# ... (código do construtivo)\n",
        "solucoes = construtivo_savings(...)\n",
        "solucoes_melhoradas = swap_entre_rotas(\n",
        "    solucoes, g, servico_ids, dist, node_to_index\n",
        ")"
      ]
    },
    {
      "cell_type": "code",
      "execution_count": null,
      "metadata": {},
      "outputs": [],
      "source": [
        "print_solucao_padroes(\n",
        "    solucoes_melhoradas,\n",
        "    parsed_data[\"meta\"][\"name\"],\n",
        "    servico_ids,\n",
        "    clocks_ref=0,\n",
        "    clocks_sol=0\n",
        ")"
      ]
    },
    {
      "cell_type": "code",
      "execution_count": null,
      "metadata": {},
      "outputs": [
        {
          "name": "stdout",
          "output_type": "stream",
          "text": [
            "✅ OK: solucoes/sol-DI-NEARP-n240-Q16k.dat\n",
            "▶ Processando DI-NEARP-n240-Q2k → solucoes/sol-DI-NEARP-n240-Q2k.dat\n",
            "✅ OK: solucoes/sol-DI-NEARP-n240-Q2k.dat\n",
            "▶ Processando DI-NEARP-n240-Q4k → solucoes/sol-DI-NEARP-n240-Q4k.dat\n",
            "✅ OK: solucoes/sol-DI-NEARP-n240-Q4k.dat\n",
            "▶ Processando DI-NEARP-n240-Q8k → solucoes/sol-DI-NEARP-n240-Q8k.dat\n",
            "✅ OK: solucoes/sol-DI-NEARP-n240-Q8k.dat\n",
            "▶ Processando DI-NEARP-n422-Q16k → solucoes/sol-DI-NEARP-n422-Q16k.dat\n",
            "✅ OK: solucoes/sol-DI-NEARP-n422-Q16k.dat\n",
            "▶ Processando DI-NEARP-n422-Q2k → solucoes/sol-DI-NEARP-n422-Q2k.dat\n",
            "✅ OK: solucoes/sol-DI-NEARP-n422-Q2k.dat\n",
            "▶ Processando DI-NEARP-n422-Q4k → solucoes/sol-DI-NEARP-n422-Q4k.dat\n",
            "✅ OK: solucoes/sol-DI-NEARP-n422-Q4k.dat\n",
            "▶ Processando DI-NEARP-n422-Q8k → solucoes/sol-DI-NEARP-n422-Q8k.dat\n",
            "✅ OK: solucoes/sol-DI-NEARP-n422-Q8k.dat\n",
            "▶ Processando DI-NEARP-n442-Q16k → solucoes/sol-DI-NEARP-n442-Q16k.dat\n",
            "✅ OK: solucoes/sol-DI-NEARP-n442-Q16k.dat\n",
            "▶ Processando DI-NEARP-n442-Q2k → solucoes/sol-DI-NEARP-n442-Q2k.dat\n",
            "✅ OK: solucoes/sol-DI-NEARP-n442-Q2k.dat\n",
            "▶ Processando DI-NEARP-n442-Q4k → solucoes/sol-DI-NEARP-n442-Q4k.dat\n",
            "✅ OK: solucoes/sol-DI-NEARP-n442-Q4k.dat\n",
            "▶ Processando DI-NEARP-n442-Q8k → solucoes/sol-DI-NEARP-n442-Q8k.dat\n",
            "✅ OK: solucoes/sol-DI-NEARP-n442-Q8k.dat\n",
            "▶ Processando DI-NEARP-n477-Q16k → solucoes/sol-DI-NEARP-n477-Q16k.dat\n",
            "❌ NÃO GERADO: DI-NEARP-n477-Q16k → TypeError\n",
            "▶ Processando DI-NEARP-n477-Q2k → solucoes/sol-DI-NEARP-n477-Q2k.dat\n"
          ]
        },
        {
          "name": "stderr",
          "output_type": "stream",
          "text": [
            "Traceback (most recent call last):\n",
            "  File \"C:\\Users\\tiago\\AppData\\Local\\Temp\\ipykernel_26712\\3501228115.py\", line 24, in <module>\n",
            "    solucoes_melhoradas = swap_entre_rotas(\n",
            "                          ^^^^^^^^^^^^^^^^^\n",
            "  File \"c:\\Users\\tiago\\Documents\\GitHub\\grafos\\trabalho\\etapa3\\otimizacao.py\", line 43, in swap_entre_rotas\n",
            "    nova_rota1 = atualiza_rota(nova_rota1)\n",
            "                 ^^^^^^^^^^^^^^^^^^^^^^^^^\n",
            "  File \"c:\\Users\\tiago\\Documents\\GitHub\\grafos\\trabalho\\etapa3\\otimizacao.py\", line 32, in atualiza_rota\n",
            "    rota.carga = sum(servico[3] for servico in rota.servicos_realizados)  # (id, u, v, tipo)\n",
            "                 ^^^^^^^^^^^^^^^^^^^^^^^^^^^^^^^^^^^^^^^^^^^^^^^^^^^^^^^\n",
            "TypeError: unsupported operand type(s) for +: 'int' and 'str'\n"
          ]
        },
        {
          "name": "stdout",
          "output_type": "stream",
          "text": [
            "❌ NÃO GERADO: DI-NEARP-n477-Q2k → TypeError\n",
            "▶ Processando DI-NEARP-n477-Q4k → solucoes/sol-DI-NEARP-n477-Q4k.dat\n"
          ]
        },
        {
          "name": "stderr",
          "output_type": "stream",
          "text": [
            "Traceback (most recent call last):\n",
            "  File \"C:\\Users\\tiago\\AppData\\Local\\Temp\\ipykernel_26712\\3501228115.py\", line 24, in <module>\n",
            "    solucoes_melhoradas = swap_entre_rotas(\n",
            "                          ^^^^^^^^^^^^^^^^^\n",
            "  File \"c:\\Users\\tiago\\Documents\\GitHub\\grafos\\trabalho\\etapa3\\otimizacao.py\", line 43, in swap_entre_rotas\n",
            "    nova_rota1 = atualiza_rota(nova_rota1)\n",
            "                 ^^^^^^^^^^^^^^^^^^^^^^^^^\n",
            "  File \"c:\\Users\\tiago\\Documents\\GitHub\\grafos\\trabalho\\etapa3\\otimizacao.py\", line 32, in atualiza_rota\n",
            "    rota.carga = sum(servico[3] for servico in rota.servicos_realizados)  # (id, u, v, tipo)\n",
            "                 ^^^^^^^^^^^^^^^^^^^^^^^^^^^^^^^^^^^^^^^^^^^^^^^^^^^^^^^\n",
            "TypeError: unsupported operand type(s) for +: 'int' and 'str'\n"
          ]
        },
        {
          "name": "stdout",
          "output_type": "stream",
          "text": [
            "❌ NÃO GERADO: DI-NEARP-n477-Q4k → TypeError\n",
            "▶ Processando DI-NEARP-n477-Q8k → solucoes/sol-DI-NEARP-n477-Q8k.dat\n"
          ]
        },
        {
          "name": "stderr",
          "output_type": "stream",
          "text": [
            "Traceback (most recent call last):\n",
            "  File \"C:\\Users\\tiago\\AppData\\Local\\Temp\\ipykernel_26712\\3501228115.py\", line 24, in <module>\n",
            "    solucoes_melhoradas = swap_entre_rotas(\n",
            "                          ^^^^^^^^^^^^^^^^^\n",
            "  File \"c:\\Users\\tiago\\Documents\\GitHub\\grafos\\trabalho\\etapa3\\otimizacao.py\", line 43, in swap_entre_rotas\n",
            "    nova_rota1 = atualiza_rota(nova_rota1)\n",
            "                 ^^^^^^^^^^^^^^^^^^^^^^^^^\n",
            "  File \"c:\\Users\\tiago\\Documents\\GitHub\\grafos\\trabalho\\etapa3\\otimizacao.py\", line 32, in atualiza_rota\n",
            "    rota.carga = sum(servico[3] for servico in rota.servicos_realizados)  # (id, u, v, tipo)\n",
            "                 ^^^^^^^^^^^^^^^^^^^^^^^^^^^^^^^^^^^^^^^^^^^^^^^^^^^^^^^\n",
            "TypeError: unsupported operand type(s) for +: 'int' and 'str'\n"
          ]
        },
        {
          "name": "stdout",
          "output_type": "stream",
          "text": [
            "❌ NÃO GERADO: DI-NEARP-n477-Q8k → TypeError\n",
            "▶ Processando DI-NEARP-n699-Q16k → solucoes/sol-DI-NEARP-n699-Q16k.dat\n"
          ]
        },
        {
          "name": "stderr",
          "output_type": "stream",
          "text": [
            "Traceback (most recent call last):\n",
            "  File \"C:\\Users\\tiago\\AppData\\Local\\Temp\\ipykernel_26712\\3501228115.py\", line 24, in <module>\n",
            "    solucoes_melhoradas = swap_entre_rotas(\n",
            "                          ^^^^^^^^^^^^^^^^^\n",
            "  File \"c:\\Users\\tiago\\Documents\\GitHub\\grafos\\trabalho\\etapa3\\otimizacao.py\", line 43, in swap_entre_rotas\n",
            "    nova_rota1 = atualiza_rota(nova_rota1)\n",
            "                 ^^^^^^^^^^^^^^^^^^^^^^^^^\n",
            "  File \"c:\\Users\\tiago\\Documents\\GitHub\\grafos\\trabalho\\etapa3\\otimizacao.py\", line 32, in atualiza_rota\n",
            "    rota.carga = sum(servico[3] for servico in rota.servicos_realizados)  # (id, u, v, tipo)\n",
            "                 ^^^^^^^^^^^^^^^^^^^^^^^^^^^^^^^^^^^^^^^^^^^^^^^^^^^^^^^\n",
            "TypeError: unsupported operand type(s) for +: 'int' and 'str'\n"
          ]
        },
        {
          "name": "stdout",
          "output_type": "stream",
          "text": [
            "✅ OK: solucoes/sol-DI-NEARP-n699-Q16k.dat\n",
            "▶ Processando DI-NEARP-n699-Q2k → solucoes/sol-DI-NEARP-n699-Q2k.dat\n",
            "✅ OK: solucoes/sol-DI-NEARP-n699-Q2k.dat\n",
            "▶ Processando DI-NEARP-n699-Q4k → solucoes/sol-DI-NEARP-n699-Q4k.dat\n",
            "✅ OK: solucoes/sol-DI-NEARP-n699-Q4k.dat\n",
            "▶ Processando DI-NEARP-n699-Q8k → solucoes/sol-DI-NEARP-n699-Q8k.dat\n",
            "✅ OK: solucoes/sol-DI-NEARP-n699-Q8k.dat\n",
            "▶ Processando DI-NEARP-n833-Q16k → solucoes/sol-DI-NEARP-n833-Q16k.dat\n",
            "✅ OK: solucoes/sol-DI-NEARP-n833-Q16k.dat\n",
            "▶ Processando DI-NEARP-n833-Q2k → solucoes/sol-DI-NEARP-n833-Q2k.dat\n",
            "Unexpected exception formatting exception. Falling back to standard exception\n"
          ]
        },
        {
          "name": "stderr",
          "output_type": "stream",
          "text": [
            "Traceback (most recent call last):\n",
            "  File \"C:\\Users\\tiago\\AppData\\Local\\Packages\\PythonSoftwareFoundation.Python.3.11_qbz5n2kfra8p0\\LocalCache\\local-packages\\Python311\\site-packages\\IPython\\core\\interactiveshell.py\", line 3667, in run_code\n",
            "    exec(code_obj, self.user_global_ns, self.user_ns)\n",
            "  File \"C:\\Users\\tiago\\AppData\\Local\\Temp\\ipykernel_26712\\3501228115.py\", line 17, in <module>\n",
            "    dist, pred, node_to_index, index_to_node = g.floyd_warshall()\n",
            "                                               ^^^^^^^^^^^^^^^^^^\n",
            "  File \"c:\\Users\\tiago\\Documents\\GitHub\\grafos\\trabalho\\etapa3\\grafo.py\", line None, in floyd_warshall\n",
            "KeyboardInterrupt\n",
            "\n",
            "During handling of the above exception, another exception occurred:\n",
            "\n",
            "Traceback (most recent call last):\n",
            "  File \"C:\\Users\\tiago\\AppData\\Local\\Packages\\PythonSoftwareFoundation.Python.3.11_qbz5n2kfra8p0\\LocalCache\\local-packages\\Python311\\site-packages\\IPython\\core\\interactiveshell.py\", line 2176, in showtraceback\n",
            "    stb = self.InteractiveTB.structured_traceback(\n",
            "          ^^^^^^^^^^^^^^^^^^^^^^^^^^^^^^^^^^^^^^^^\n",
            "  File \"C:\\Users\\tiago\\AppData\\Local\\Packages\\PythonSoftwareFoundation.Python.3.11_qbz5n2kfra8p0\\LocalCache\\local-packages\\Python311\\site-packages\\IPython\\core\\ultratb.py\", line 1182, in structured_traceback\n",
            "    return FormattedTB.structured_traceback(\n",
            "           ^^^^^^^^^^^^^^^^^^^^^^^^^^^^^^^^^\n",
            "  File \"C:\\Users\\tiago\\AppData\\Local\\Packages\\PythonSoftwareFoundation.Python.3.11_qbz5n2kfra8p0\\LocalCache\\local-packages\\Python311\\site-packages\\IPython\\core\\ultratb.py\", line 1053, in structured_traceback\n",
            "    return VerboseTB.structured_traceback(\n",
            "           ^^^^^^^^^^^^^^^^^^^^^^^^^^^^^^^\n",
            "  File \"C:\\Users\\tiago\\AppData\\Local\\Packages\\PythonSoftwareFoundation.Python.3.11_qbz5n2kfra8p0\\LocalCache\\local-packages\\Python311\\site-packages\\IPython\\core\\ultratb.py\", line 861, in structured_traceback\n",
            "    formatted_exceptions: list[list[str]] = self.format_exception_as_a_whole(\n",
            "                                            ^^^^^^^^^^^^^^^^^^^^^^^^^^^^^^^^^\n",
            "  File \"C:\\Users\\tiago\\AppData\\Local\\Packages\\PythonSoftwareFoundation.Python.3.11_qbz5n2kfra8p0\\LocalCache\\local-packages\\Python311\\site-packages\\IPython\\core\\ultratb.py\", line 773, in format_exception_as_a_whole\n",
            "    frames.append(self.format_record(record))\n",
            "                  ^^^^^^^^^^^^^^^^^^^^^^^^^^\n",
            "  File \"C:\\Users\\tiago\\AppData\\Local\\Packages\\PythonSoftwareFoundation.Python.3.11_qbz5n2kfra8p0\\LocalCache\\local-packages\\Python311\\site-packages\\IPython\\core\\ultratb.py\", line 536, in format_record\n",
            "    assert isinstance(frame_info.lineno, int)\n",
            "           ^^^^^^^^^^^^^^^^^^^^^^^^^^^^^^^^^^\n",
            "AssertionError\n"
          ]
        }
      ],
      "source": [
        "INPUT_DIR  = 'dados/'\n",
        "OUTPUT_DIR = 'solucoes/'\n",
        "\n",
        "# Limpa a pasta de saída ANTES de começar\n",
        "if os.path.exists(OUTPUT_DIR):\n",
        "    shutil.rmtree(OUTPUT_DIR)\n",
        "os.makedirs(OUTPUT_DIR, exist_ok=True)\n",
        "\n",
        "for filepath in sorted(glob.glob(os.path.join(INPUT_DIR, '*.dat'))):\n",
        "    inst_name = os.path.splitext(os.path.basename(filepath))[0]\n",
        "    out_path = os.path.join(OUTPUT_DIR, f'sol-{inst_name}.dat')\n",
        "    print(f'▶ Processando {inst_name} → {out_path}')\n",
        "    try:\n",
        "        with open(out_path, 'w') as fout, redirect_stdout(fout):\n",
        "            data = parse_instance_fully_correct(filepath)\n",
        "            g = CustomGraphFinal(data)\n",
        "            dist, pred, node_to_index, index_to_node = g.floyd_warshall()\n",
        "            servicos, servico_ids = preparar_servicos(data, g.depot)\n",
        "            start_alg = time.perf_counter()\n",
        "            solucoes = construtivo_savings(\n",
        "                g, servicos, servico_ids, g.depot, g.capacity, dist, node_to_index\n",
        "            )\n",
        "            # Aplique a melhoria com swap, passando servicos\n",
        "            solucoes_melhoradas = swap_entre_rotas(\n",
        "                solucoes, g, servico_ids, dist, node_to_index, servicos\n",
        "            )\n",
        "            end_alg = time.perf_counter()\n",
        "            clocks_ref = int((end_alg - start_alg) * 1e6)\n",
        "            print_solucao_padroes(\n",
        "                solucoes_melhoradas,\n",
        "                data[\"meta\"][\"name\"],\n",
        "                servico_ids,\n",
        "                clocks_ref=clocks_ref,\n",
        "                clocks_sol=clocks_ref\n",
        "            )\n",
        "        print(f'✅ OK: {out_path}')\n",
        "    except Exception as e:\n",
        "        print(f'❌ NÃO GERADO: {inst_name} → {e.__class__.__name__}')\n",
        "        traceback.print_exc()"
      ]
    }
  ],
  "metadata": {
    "colab": {
      "provenance": []
    },
    "kernelspec": {
      "display_name": "Python 3",
      "name": "python3"
    },
    "language_info": {
      "codemirror_mode": {
        "name": "ipython",
        "version": 3
      },
      "file_extension": ".py",
      "mimetype": "text/x-python",
      "name": "python",
      "nbconvert_exporter": "python",
      "pygments_lexer": "ipython3",
      "version": "3.11.9"
    }
  },
  "nbformat": 4,
  "nbformat_minor": 0
}
