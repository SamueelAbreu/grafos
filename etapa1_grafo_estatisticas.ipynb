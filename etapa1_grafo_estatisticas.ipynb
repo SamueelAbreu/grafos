{
 "cells": [
  {
   "cell_type": "markdown",
   "metadata": {},
   "source": [
    "# Etapa 1 - Modelagem e Estatísticas do Grafo\n",
    "Este notebook implementa a modelagem de um grafo direcionado com arestas e arcos requeridos, o cálculo de estatísticas estruturais e a visualização do grafo."
   ]
  },
  {
   "cell_type": "code",
   "execution_count": null,
   "id": "e9d62433",
   "metadata": {},
   "outputs": [
    {
     "ename": "",
     "evalue": "",
     "output_type": "error",
     "traceback": [
      "\u001b[1;31mRunning cells with 'Python 3.12.3' requires the ipykernel package.\n",
      "\u001b[1;31mRun the following command to install 'ipykernel' into the Python environment. \n",
      "\u001b[1;31mCommand: '/bin/python3 -m pip install ipykernel -U --user --force-reinstall'"
     ]
    }
   ],
   "source": [
    "pip install networkx matplotlib pandas"
   ]
  },
  {
   "cell_type": "code",
   "execution_count": null,
   "metadata": {},
   "outputs": [
    {
     "ename": "",
     "evalue": "",
     "output_type": "error",
     "traceback": [
      "\u001b[1;31mRunning cells with 'Python 3.12.3' requires the ipykernel package.\n",
      "\u001b[1;31mRun the following command to install 'ipykernel' into the Python environment. \n",
      "\u001b[1;31mCommand: '/bin/python3 -m pip install ipykernel -U --user --force-reinstall'"
     ]
    }
   ],
   "source": [
    "import networkx as nx\n",
    "import numpy as np\n",
    "import pandas as pd\n",
    "import matplotlib.pyplot as plt"
   ]
  },
  {
   "cell_type": "markdown",
   "metadata": {},
   "source": [
    "## 1. Criação do Grafo"
   ]
  },
  {
   "cell_type": "code",
   "execution_count": null,
   "metadata": {},
   "outputs": [],
   "source": [
    "# Criar um multigrafo direcionado\n",
    "G = nx.MultiDiGraph()\n",
    "\n",
    "# Conjunto de nós\n",
    "V = [0, 1, 2, 3, 4]\n",
    "G.add_nodes_from(V)\n",
    "\n",
    "# Arestas/arcos (origem, destino, atributos)\n",
    "edges = [\n",
    "    (0, 1, {'custo': 2, 'demanda': 3, 'requerida': True}),\n",
    "    (1, 0, {'custo': 2, 'demanda': 3, 'requerida': True}),\n",
    "    (1, 2, {'custo': 4, 'demanda': 1, 'requerida': False}),\n",
    "    (2, 3, {'custo': 1, 'demanda': 2, 'requerida': True}),\n",
    "    (3, 4, {'custo': 3, 'demanda': 2, 'requerida': False}),\n",
    "    (4, 0, {'custo': 5, 'demanda': 2, 'requerida': True}),\n",
    "]\n",
    "G.add_edges_from(edges)\n",
    "\n",
    "# Subconjuntos requeridos\n",
    "VR = {0, 2}  # Nós requeridos\n",
    "ER = [(0, 1), (2, 3)]  # Arestas requeridas\n",
    "AR = [(4, 0)]          # Arcos requeridos"
   ]
  },
  {
   "cell_type": "markdown",
   "metadata": {},
   "source": [
    "## 2. Cálculo das Estatísticas do Grafo"
   ]
  },
  {
   "cell_type": "code",
   "execution_count": null,
   "metadata": {},
   "outputs": [],
   "source": [
    "num_vertices = G.number_of_nodes()\n",
    "num_arcs = sum(1 for u, v, k, d in G.edges(keys=True, data=True) if not G.has_edge(v, u, k))\n",
    "num_edges = G.number_of_edges() - num_arcs\n",
    "\n",
    "num_required_vertices = len(VR)\n",
    "num_required_edges = len(ER)\n",
    "num_required_arcs = len(AR)\n",
    "\n",
    "density = nx.density(G.to_undirected())\n",
    "components = nx.number_connected_components(G.to_undirected())\n",
    "\n",
    "degrees = dict(G.degree())\n",
    "min_degree = min(degrees.values())\n",
    "max_degree = max(degrees.values())\n",
    "\n",
    "betweenness = nx.betweenness_centrality(G.to_undirected())\n",
    "\n",
    "lengths = dict(nx.all_pairs_dijkstra_path_length(G.to_undirected()))\n",
    "predecessors = dict(nx.all_pairs_dijkstra_path(G.to_undirected()))\n",
    "\n",
    "all_lengths = [l for target_dict in lengths.values() for l in target_dict.values() if l > 0]\n",
    "average_path_length = np.mean(all_lengths)\n",
    "diameter = max(all_lengths)\n",
    "\n",
    "stats = {\n",
    "    \"Quantidade de vértices\": num_vertices,\n",
    "    \"Quantidade de arestas\": num_edges,\n",
    "    \"Quantidade de arcos\": num_arcs,\n",
    "    \"Quantidade de vértices requeridos\": num_required_vertices,\n",
    "    \"Quantidade de arestas requeridas\": num_required_edges,\n",
    "    \"Quantidade de arcos requeridos\": num_required_arcs,\n",
    "    \"Densidade do grafo\": density,\n",
    "    \"Componentes conectados\": components,\n",
    "    \"Grau mínimo\": min_degree,\n",
    "    \"Grau máximo\": max_degree,\n",
    "    \"Intermediação\": betweenness,\n",
    "    \"Caminho médio\": average_path_length,\n",
    "    \"Diâmetro\": diameter,\n",
    "}\n",
    "\n",
    "stats_df = pd.DataFrame(list(stats.items()), columns=[\"Métrica\", \"Valor\"])\n",
    "stats_df"
   ]
  },
  {
   "cell_type": "markdown",
   "metadata": {},
   "source": [
    "## 3. Visualização do Grafo"
   ]
  },
  {
   "cell_type": "code",
   "execution_count": null,
   "metadata": {},
   "outputs": [],
   "source": [
    "pos = nx.spring_layout(G, seed=42)\n",
    "\n",
    "required_edges = [(u, v) for u, v, d in G.edges(data=True) if d['requerida']]\n",
    "non_required_edges = [(u, v) for u, v, d in G.edges(data=True) if not d['requerida']]\n",
    "\n",
    "nx.draw_networkx_nodes(G, pos, node_color='lightblue', node_size=700)\n",
    "nx.draw_networkx_edges(G, pos, edgelist=required_edges, edge_color='red', width=2, arrows=True)\n",
    "nx.draw_networkx_edges(G, pos, edgelist=non_required_edges, edge_color='gray', style='dashed', arrows=True)\n",
    "nx.draw_networkx_labels(G, pos, font_size=12)\n",
    "\n",
    "edge_labels = {(u, v): d['custo'] for u, v, d in G.edges(data=True)}\n",
    "nx.draw_networkx_edge_labels(G, pos, edge_labels=edge_labels)\n",
    "\n",
    "plt.title(\"Grafo com Arestas/Arcos Requeridos (vermelhos)\")\n",
    "plt.axis('off')\n",
    "plt.tight_layout()\n",
    "plt.show()"
   ]
  }
 ],
 "metadata": {
  "kernelspec": {
   "display_name": "Python 3",
   "language": "python",
   "name": "python3"
  },
  "language_info": {
   "name": "python",
   "version": "3.12.3"
  }
 },
 "nbformat": 4,
 "nbformat_minor": 5
}
